{
 "cells": [
  {
   "cell_type": "code",
   "execution_count": 1,
   "metadata": {},
   "outputs": [],
   "source": [
    "import csv\n",
    "from bs4 import BeautifulSoup\n",
    "from urllib.request import urlopen"
   ]
  },
  {
   "cell_type": "code",
   "execution_count": 2,
   "metadata": {},
   "outputs": [],
   "source": [
    "# finding the url of all the pages to open\n",
    "\n",
    "\n",
    "url_list=['https://www.imdb.com/search/title/?groups=top_250&sort=user_rating,desc&ref_=adv_prv']\n",
    "for i in range(0,4):\n",
    "    html=urlopen(url_list[i])\n",
    "    obj=BeautifulSoup(html)\n",
    "    new=\"https://imdb.com\"+obj.find(\"a\",{\"class\":\"lister-page-next next-page\"}).attrs['href'] + \"&ref_=adv_nxt\"\n",
    "    url_list.append(new)"
   ]
  },
  {
   "cell_type": "code",
   "execution_count": 3,
   "metadata": {},
   "outputs": [
    {
     "data": {
      "text/plain": [
       "['https://www.imdb.com/search/title/?groups=top_250&sort=user_rating,desc&ref_=adv_prv',\n",
       " 'https://imdb.com/search/title/?groups=top_250&sort=user_rating,desc&start=51&ref_=adv_nxt',\n",
       " 'https://imdb.com/search/title/?groups=top_250&sort=user_rating,desc&start=101&ref_=adv_nxt',\n",
       " 'https://imdb.com/search/title/?groups=top_250&sort=user_rating,desc&start=151&ref_=adv_nxt',\n",
       " 'https://imdb.com/search/title/?groups=top_250&sort=user_rating,desc&start=201&ref_=adv_nxt']"
      ]
     },
     "execution_count": 3,
     "metadata": {},
     "output_type": "execute_result"
    }
   ],
   "source": [
    "#url_list"
   ]
  },
  {
   "cell_type": "markdown",
   "metadata": {},
   "source": [
    "html1=urlopen(\"https://www.imdb.com/search/title/?groups=top_250&sort=user_rating,desc&ref_=adv_prv\")\n",
    "obj1=BeautifulSoup(html1)"
   ]
  },
  {
   "cell_type": "code",
   "execution_count": 29,
   "metadata": {},
   "outputs": [],
   "source": [
    "#maximum=obj1.findAll(\"div\",{\"class\":\"lister-item-content\"})[0].findAll(\"span\",{\"class\":[\"runtime\",\"genre\",\"metascore favorable\",\"certificate\",\"lister-item-year text-muted unbold\",\"lister-item-index unbold text-primary\"]})"
   ]
  },
  {
   "cell_type": "code",
   "execution_count": 18,
   "metadata": {},
   "outputs": [],
   "source": [
    "#rating=obj1.findAll(\"div\",{\"class\":\"lister-item-content\"})[0].findAll(\"strong\")[0].get_text()\n"
   ]
  },
  {
   "cell_type": "code",
   "execution_count": 19,
   "metadata": {},
   "outputs": [],
   "source": [
    "#description=obj1.findAll(\"div\",{\"class\":\"lister-item-content\"})[0].findAll(\"p\",{\"class\":\"text-muted\"})[1].get_text().replace('\\n',\"\")"
   ]
  },
  {
   "cell_type": "code",
   "execution_count": 21,
   "metadata": {},
   "outputs": [],
   "source": [
    "#cast=obj1.findAll(\"div\",{\"class\":\"lister-item-content\"})[0].findAll(\"p\",{\"class\":\"\"})[0].get_text().replace(\"\\n\",\"\").split(\"|\")"
   ]
  },
  {
   "cell_type": "code",
   "execution_count": 30,
   "metadata": {},
   "outputs": [
    {
     "data": {
      "text/plain": [
       "'The Shawshank Redemption'"
      ]
     },
     "execution_count": 30,
     "metadata": {},
     "output_type": "execute_result"
    }
   ],
   "source": [
    "#title=obj1.findAll(\"div\",{\"class\":\"lister-item-content\"})[0].find(\"a\").get_text()\n"
   ]
  },
  {
   "cell_type": "markdown",
   "metadata": {},
   "source": [
    "tag_span=[]\n",
    "for i in range(0,50):\n",
    "    tag_span.append(obj1.findAll(\"div\",{\"class\":\"lister-item-content\"})[i].findAll(\"span\",{\"class\":[\"runtime\",\"genre\",\"metascore favorable\",\"lister-item-year text-muted unbold\",\"lister-item-index unbold text-primary\"]}))"
   ]
  },
  {
   "cell_type": "markdown",
   "metadata": {},
   "source": [
    "Direct=[]\n",
    "Act=[]\n",
    "for i in range(0,50):\n",
    "    cast=obj1.findAll(\"div\",{\"class\":\"lister-item-content\"})[i].findAll(\"p\",{\"class\":\"\"})[0].get_text().replace(\"\\n\",\"\").split(\"|\")\n",
    "    Director=cast[0]\n",
    "    Director=Director.split(\":\")\n",
    "    del Director[0]\n",
    "    Direct.append(Director)\n",
    "    Actors=cast[1]\n",
    "    Actors=Actors.split(\":\")\n",
    "    del Actors[0]\n",
    "    Act.append(Actors)"
   ]
  },
  {
   "cell_type": "markdown",
   "metadata": {},
   "source": [
    "title_list=[]\n",
    "for i in range(0,50):\n",
    "    title_list.append(obj1.findAll(\"div\",{\"class\":\"lister-item-content\"})[i].find(\"a\").get_text())"
   ]
  },
  {
   "cell_type": "markdown",
   "metadata": {},
   "source": [
    "desc_list=[]\n",
    "for i in range(0,50):\n",
    "    desc_list.append(obj1.findAll(\"div\",{\"class\":\"lister-item-content\"})[i].findAll(\"p\",{\"class\":\"text-muted\"})[1].get_text().replace('\\n',\"\"))\n",
    "    "
   ]
  },
  {
   "cell_type": "markdown",
   "metadata": {},
   "source": [
    "rank_list=[]\n",
    "for i in range(0,50):\n",
    "    rank_list.append(tag_span[i][0].get_text())\n",
    "   "
   ]
  },
  {
   "cell_type": "markdown",
   "metadata": {},
   "source": [
    "year_list=[]\n",
    "for i in range(0,50):\n",
    "    year_list.append(tag_span[i][1].get_text())"
   ]
  },
  {
   "cell_type": "code",
   "execution_count": 103,
   "metadata": {},
   "outputs": [
    {
     "data": {
      "text/plain": [
       "[<span class=\"lister-item-index unbold text-primary\">1.</span>,\n",
       " <span class=\"lister-item-year text-muted unbold\">(1994)</span>,\n",
       " <span class=\"runtime\">142 min</span>,\n",
       " <span class=\"genre\">\n",
       " Drama            </span>,\n",
       " <span class=\"metascore favorable\">80        </span>]"
      ]
     },
     "execution_count": 103,
     "metadata": {},
     "output_type": "execute_result"
    }
   ],
   "source": [
    "#tag_span[0]"
   ]
  },
  {
   "cell_type": "markdown",
   "metadata": {},
   "source": [
    "runtime_list=[]\n",
    "for i in range(0,50):\n",
    "    runtime_list.append(tag_span[i][2].get_text())  # runtime"
   ]
  },
  {
   "cell_type": "markdown",
   "metadata": {},
   "source": [
    "genre_list=[]\n",
    "for i in range(0,50):\n",
    "    genre_list.append(tag_span[i][3].get_text().replace(\"\\n\",\"\"))   # genre"
   ]
  },
  {
   "cell_type": "markdown",
   "metadata": {},
   "source": [
    "rating_list=[]\n",
    "for i in range(0,50):\n",
    "    rating_list.append(obj1.findAll(\"div\",{\"class\":\"lister-item-content\"})[i].findAll(\"strong\")[0].get_text())\n"
   ]
  },
  {
   "cell_type": "code",
   "execution_count": 150,
   "metadata": {},
   "outputs": [],
   "source": [
    "csvFile = open(\"test3.csv\", 'wt')\n",
    "try:\n",
    "    writer = csv.writer(csvFile)\n",
    "    writer.writerow(('Rank','Title','Genre','Year','Description','Rating','Actors','Director','Runtime'))\n",
    "    \n",
    "    for url in url_list:\n",
    "        html1=urlopen(url)\n",
    "        obj1=BeautifulSoup(html1)\n",
    "        rank_list=[]\n",
    "        title_list=[]\n",
    "        genre_list=[]\n",
    "        year_list=[]\n",
    "        desc_list=[]\n",
    "        rating_list=[]\n",
    "        Act=[]\n",
    "        Direct=[]\n",
    "        runtime_list=[]\n",
    "        tag_span=[]\n",
    "        for i in range(0,50):\n",
    "            tag_span.append(obj1.findAll(\"div\",{\"class\":\"lister-item-content\"})[i].findAll(\"span\",{\"class\":[\"runtime\",\"genre\",\"metascore favorable\",\"lister-item-year text-muted unbold\",\"lister-item-index unbold text-primary\"]}))\n",
    "            cast=obj1.findAll(\"div\",{\"class\":\"lister-item-content\"})[i].findAll(\"p\",{\"class\":\"\"})[0].get_text().replace(\"\\n\",\"\").split(\"|\")\n",
    "            Director=cast[0]\n",
    "            Director=Director.split(\":\")\n",
    "            del Director[0]\n",
    "            Direct.append(Director)\n",
    "            Actors=cast[1]\n",
    "            Actors=Actors.split(\":\")\n",
    "            del Actors[0]\n",
    "            Act.append(Actors)\n",
    "            title_list.append(obj1.findAll(\"div\",{\"class\":\"lister-item-content\"})[i].find(\"a\").get_text())\n",
    "            desc_list.append(obj1.findAll(\"div\",{\"class\":\"lister-item-content\"})[i].findAll(\"p\",{\"class\":\"text-muted\"})[1].get_text().replace('\\n',\"\"))\n",
    "\n",
    "            rank_list.append(tag_span[i][0].get_text())\n",
    "            year_list.append(tag_span[i][1].get_text()) \n",
    "            runtime_list.append(tag_span[i][2].get_text())\n",
    "            genre_list.append(tag_span[i][3].get_text().replace(\"\\n\",\"\"))\n",
    "            rating_list.append(obj1.findAll(\"div\",{\"class\":\"lister-item-content\"})[i].findAll(\"strong\")[0].get_text())\n",
    "\n",
    "        \n",
    " \n",
    "            writer.writerow((rank_list[i],title_list[i],genre_list[i],year_list[i],desc_list[i],rating_list[i],Act[i],Direct[i],runtime_list[i]))\n",
    "\n",
    "finally:\n",
    "    csvFile.close()\n",
    "        \n",
    "        \n",
    "    \n",
    "    "
   ]
  },
  {
   "cell_type": "code",
   "execution_count": null,
   "metadata": {},
   "outputs": [],
   "source": []
  }
 ],
 "metadata": {
  "kernelspec": {
   "display_name": "Python 3",
   "language": "python",
   "name": "python3"
  },
  "language_info": {
   "codemirror_mode": {
    "name": "ipython",
    "version": 3
   },
   "file_extension": ".py",
   "mimetype": "text/x-python",
   "name": "python",
   "nbconvert_exporter": "python",
   "pygments_lexer": "ipython3",
   "version": "3.7.6"
  }
 },
 "nbformat": 4,
 "nbformat_minor": 2
}
